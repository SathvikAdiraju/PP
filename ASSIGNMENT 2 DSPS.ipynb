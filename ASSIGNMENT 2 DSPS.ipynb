{
 "cells": [
  {
   "cell_type": "code",
   "execution_count": 4,
   "metadata": {},
   "outputs": [
    {
     "name": "stdout",
     "output_type": "stream",
     "text": [
      "enterSaIenO\n",
      "4 0 2\n"
     ]
    }
   ],
   "source": [
    "#Problem 1\n",
    "\n",
    "\n",
    "a=input(\"enter\")\n",
    "count1=0\n",
    "count2=0\n",
    "count3=0\n",
    "for i in a:\n",
    "    if (i=='a' or i=='e' or i=='i' or i=='o' or i=='u') or (i=='A' or i=='E' or i=='O' or i=='I' or i=='U') :\n",
    "        count1+=1\n",
    "    elif i=='#' or i=='*' or i=='$'or i=='!':\n",
    "        count2+=1\n",
    "    else:\n",
    "        count3+=1\n",
    "print(count1,count2,count3)"
   ]
  },
  {
   "cell_type": "code",
   "execution_count": 5,
   "metadata": {},
   "outputs": [
    {
     "name": "stdout",
     "output_type": "stream",
     "text": [
      "enter1\n",
      "enter10\n",
      "9\n"
     ]
    }
   ],
   "source": [
    "#problem 4 test case 1\n",
    "\n",
    "\n",
    "\n",
    "a=int(input(\"enter\"))\n",
    "b=int(input(\"enter\"))\n",
    "count=0\n",
    "for i in range(a,b+1):\n",
    "    if str(i)==str(i)[::-1]:\n",
    "        count+=1\n",
    "print(count)\n",
    "    \n"
   ]
  },
  {
   "cell_type": "code",
   "execution_count": 6,
   "metadata": {},
   "outputs": [
    {
     "name": "stdout",
     "output_type": "stream",
     "text": [
      "enter1\n",
      "enter100\n",
      "18\n"
     ]
    }
   ],
   "source": [
    "#problem 4 test case 2\n",
    "\n",
    "\n",
    "\n",
    "a=int(input(\"enter\"))\n",
    "b=int(input(\"enter\"))\n",
    "count=0\n",
    "for i in range(a,b+1):\n",
    "    if str(i)==str(i)[::-1]:\n",
    "        count+=1\n",
    "print(count)"
   ]
  },
  {
   "cell_type": "code",
   "execution_count": 7,
   "metadata": {},
   "outputs": [
    {
     "name": "stdout",
     "output_type": "stream",
     "text": [
      "enter127\n",
      "848\n",
      "palindrome\n"
     ]
    }
   ],
   "source": [
    "#problem 5\n",
    "\n",
    "\n",
    "\n",
    "a=int(input(\"enter\"))\n",
    "while True:\n",
    "    if str(a)==str(a)[::-1]:\n",
    "        print(a)\n",
    "        print(\"palindrome\")\n",
    "        break\n",
    "    else:\n",
    "        c=str(a)[::-1]\n",
    "        b=int(c)\n",
    "        a=b+a\n",
    "    "
   ]
  },
  {
   "cell_type": "code",
   "execution_count": 8,
   "metadata": {},
   "outputs": [
    {
     "name": "stdout",
     "output_type": "stream",
     "text": [
      "2\n"
     ]
    }
   ],
   "source": [
    "#problem 2\n",
    "\n",
    "\n",
    "str = \"abbaaccbbaaa\"\n",
    "print(str.count('aa'))"
   ]
  },
  {
   "cell_type": "code",
   "execution_count": 9,
   "metadata": {
    "scrolled": true
   },
   "outputs": [
    {
     "name": "stdout",
     "output_type": "stream",
     "text": [
      "enterorange\n",
      "puboif"
     ]
    }
   ],
   "source": [
    "#problem 6\n",
    "\n",
    "\n",
    "\n",
    "a=input(\"enter\")\n",
    "vow = ['a','e','i','o','u']\n",
    "for i in a:\n",
    "    if i in vow:\n",
    "        print(chr(ord(i)+1),end='')\n",
    "    elif (ord(i)>65 and ord(i)<69) or (ord(i)>97 and ord(i)<101):\n",
    "        print('e',end=\"\")\n",
    "    elif (ord(i)>69 and ord(i)<73) or (ord(i)>101 and ord(i)<105):\n",
    "        print('i',end=\"\")\n",
    "    elif (ord(i)>73 and ord(i)<79) or (ord(i)>105 and ord(i)<111):\n",
    "        print('o',end=\"\")\n",
    "    elif (ord(i)>79 and ord(i)<85) or (ord(i)>111 and ord(i)<117):\n",
    "        print('u',end=\"\")\n",
    "    elif (ord(i)>85 and ord(i)<90) or (ord(i)>117 and ord(i)<122):\n",
    "        print('a',end=\"\")\n",
    "    "
   ]
  },
  {
   "cell_type": "code",
   "execution_count": 10,
   "metadata": {},
   "outputs": [
    {
     "name": "stdout",
     "output_type": "stream",
     "text": [
      "enterAppli123cation456 \n",
      "21\n"
     ]
    }
   ],
   "source": [
    "#problem 7\n",
    "\n",
    "\n",
    "\n",
    "a=input(\"enter\")\n",
    "s=0\n",
    "for i in a:\n",
    "    if i.isdigit()==True:\n",
    "        l=int(i)\n",
    "        s+=l\n",
    "print(s)\n",
    "    \n"
   ]
  },
  {
   "cell_type": "code",
   "execution_count": 21,
   "metadata": {},
   "outputs": [
    {
     "name": "stdout",
     "output_type": "stream",
     "text": [
      "enter0.85\n",
      "B\n"
     ]
    }
   ],
   "source": [
    "#problem 8\n",
    "\n",
    "\n",
    "\n",
    "i=float(input(\"enter\"))\n",
    "if (i>=0.9 and i<1.0):\n",
    "    print('A')\n",
    "elif (i>=0.8 and i<0.9):\n",
    "    print('B')\n",
    "elif (i>=0.7 and i<0.8):\n",
    "    print('C')\n",
    "elif (i>=0.6 and i<0.7):\n",
    "    print('D')\n",
    "elif (i<0.6 and i>=0.0):\n",
    "    print('F')\n",
    "elif (i<0.0 and i>1.0):\n",
    "    print('Invalid score')\n",
    "    \n",
    "        \n",
    "        \n",
    "\n"
   ]
  },
  {
   "cell_type": "code",
   "execution_count": 25,
   "metadata": {},
   "outputs": [
    {
     "name": "stdout",
     "output_type": "stream",
     "text": [
      "FizzBuzz\n",
      "1\n",
      "2\n",
      "Fizz\n",
      "4\n",
      "Buzz\n",
      "Fizz\n",
      "7\n",
      "8\n",
      "Fizz\n",
      "Buzz\n",
      "11\n",
      "Fizz\n",
      "13\n",
      "14\n",
      "FizzBuzz\n",
      "16\n",
      "17\n",
      "Fizz\n",
      "19\n",
      "Buzz\n",
      "Fizz\n",
      "22\n",
      "23\n",
      "Fizz\n",
      "Buzz\n",
      "26\n",
      "Fizz\n",
      "28\n",
      "29\n",
      "FizzBuzz\n",
      "31\n",
      "32\n",
      "Fizz\n",
      "34\n",
      "Buzz\n",
      "Fizz\n",
      "37\n",
      "38\n",
      "Fizz\n",
      "Buzz\n",
      "41\n",
      "Fizz\n",
      "43\n",
      "44\n",
      "FizzBuzz\n",
      "46\n",
      "47\n",
      "Fizz\n",
      "49\n",
      "Buzz\n"
     ]
    }
   ],
   "source": [
    "#problem 9\n",
    "\n",
    "\n",
    "for i in range(0,51):\n",
    "    if i%3==0 and i%5==0:\n",
    "        print('FizzBuzz')\n",
    "    elif i%3==0:\n",
    "        print('Fizz')\n",
    "    elif i%5==0:\n",
    "        print('Buzz')\n",
    "    else:\n",
    "        print(i)\n",
    "    "
   ]
  },
  {
   "cell_type": "code",
   "execution_count": 24,
   "metadata": {},
   "outputs": [
    {
     "name": "stdout",
     "output_type": "stream",
     "text": [
      "enter11\n",
      "enter17\n",
      "enter16\n",
      "16\n"
     ]
    }
   ],
   "source": [
    "#problem 10\n",
    "\n",
    "\n",
    "a=int(input(\"enter\"))\n",
    "b=int(input(\"enter\"))\n",
    "c=int(input(\"enter\"))\n",
    "if a>b:\n",
    "    if b>c:\n",
    "        print(b)\n",
    "    elif c>a:\n",
    "        print(a)\n",
    "    else:\n",
    "        print(c)\n",
    "else:\n",
    "    if a>c:\n",
    "        print(a)\n",
    "    elif c>b:\n",
    "        print(b)\n",
    "    else:\n",
    "        print(c)"
   ]
  },
  {
   "cell_type": "code",
   "execution_count": 26,
   "metadata": {},
   "outputs": [
    {
     "name": "stdout",
     "output_type": "stream",
     "text": [
      "8\n"
     ]
    }
   ],
   "source": [
    "#problem 3 test case 1\n",
    "\n",
    "\n",
    "str=\"((((()()()))))()\"\n",
    "print(str.count(')'))"
   ]
  },
  {
   "cell_type": "code",
   "execution_count": 28,
   "metadata": {},
   "outputs": [
    {
     "name": "stdout",
     "output_type": "stream",
     "text": [
      "4\n"
     ]
    }
   ],
   "source": [
    "#problem 3 test case 2\n",
    "\n",
    "\n",
    "str2=\"((()))()\"\n",
    "print(str2.count(')'))"
   ]
  },
  {
   "cell_type": "code",
   "execution_count": null,
   "metadata": {},
   "outputs": [],
   "source": []
  }
 ],
 "metadata": {
  "kernelspec": {
   "display_name": "Python 3",
   "language": "python",
   "name": "python3"
  },
  "language_info": {
   "codemirror_mode": {
    "name": "ipython",
    "version": 3
   },
   "file_extension": ".py",
   "mimetype": "text/x-python",
   "name": "python",
   "nbconvert_exporter": "python",
   "pygments_lexer": "ipython3",
   "version": "3.7.6"
  }
 },
 "nbformat": 4,
 "nbformat_minor": 4
}
