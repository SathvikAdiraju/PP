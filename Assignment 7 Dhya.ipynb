{
 "cells": [
  {
   "cell_type": "code",
   "execution_count": 1,
   "metadata": {},
   "outputs": [
    {
     "name": "stdout",
     "output_type": "stream",
     "text": [
      "1 . Hello Mate\n",
      "\n",
      "2 . How are you?\n",
      "\n",
      "3 . I have been trying to reach you\n",
      "\n",
      "4 . Are you Home?\n",
      "\n",
      "5 . Stay Home and Stay Safe\n"
     ]
    }
   ],
   "source": [
    "#print contents of file line by line\n",
    "f=open('sample.txt','r')\n",
    "i=1\n",
    "for l in f:\n",
    "    print(i,'.',l)\n",
    "    i+=1\n"
   ]
  },
  {
   "cell_type": "code",
   "execution_count": 2,
   "metadata": {},
   "outputs": [
    {
     "name": "stdout",
     "output_type": "stream",
     "text": [
      "\n",
      "etaM olleH\n",
      "\n",
      "?uoy era woH\n",
      "\n",
      "uoy hcaer ot gniyrt neeb evah I\n",
      "\n",
      "?emoH uoy erA\n",
      "efaS yatS dna emoH yatS\n"
     ]
    }
   ],
   "source": [
    "#copy contents of one file to another\n",
    "f=open('sample.txt','r')\n",
    "f1=open('sample1.txt','w')\n",
    "for l in f:\n",
    "    f1.write(l)\n",
    "f1=open('sample1.txt','r')\n",
    "for l in f1:\n",
    "    print(l[::-1])"
   ]
  },
  {
   "cell_type": "code",
   "execution_count": 3,
   "metadata": {},
   "outputs": [
    {
     "name": "stdout",
     "output_type": "stream",
     "text": [
      "True\n",
      "[5, 6, 7, 1]\n"
     ]
    }
   ],
   "source": [
    "#to find duplicates in list\n",
    "def dupli(list1):\n",
    "    for i in list1:\n",
    "        if(list1.count(i)>1):\n",
    "            return True\n",
    "            break\n",
    "        else:\n",
    "            continue\n",
    "    return False\n",
    "def deleted(s):\n",
    "    for i in list1:\n",
    "        if i not in list2:\n",
    "            list2.append(i)\n",
    "    return list2\n",
    "list1 = [5,6,5,7,6,1]\n",
    "list2= []\n",
    "s = (dupli(list1))\n",
    "print(s)\n",
    "if(s == True):\n",
    "    print(deleted(list1))\n",
    "\n",
    "\n"
   ]
  },
  {
   "cell_type": "code",
   "execution_count": 11,
   "metadata": {},
   "outputs": [
    {
     "name": "stdout",
     "output_type": "stream",
     "text": [
      "Fraction is:  0.4\n",
      "Addition:  0.7\n",
      "subtraction:  0.16666666666666669\n",
      "Multiplication:  0.19999999999999998\n",
      "Division:  0.8333333333333333\n"
     ]
    }
   ],
   "source": [
    "#fraction user defined\n",
    "#def fr(a,b):\n",
    "#    c=a/b\n",
    "#    print('Fraction is: ',c)\n",
    "#def add(a1,b1,c1,d1):\n",
    "#    e1=a1/b1\n",
    "#    f1=c1/d1\n",
    "#    print('Addition: ',e1+f1)\n",
    "#def sub(a2,b2,c2,d2):\n",
    "#    e2=a2/b2\n",
    "#    f2=c2/d2\n",
    "#    print('subtraction: ',e2-f2)\n",
    "#def mul(a3,b3,c3,d3):\n",
    "#    e3=a3/b3\n",
    "#    f3=c3/d3\n",
    "#    print('Multiplication: ',e3*f3)\n",
    "#def div(a4,b4,c4,d4):\n",
    "#    e4=a4/b4\n",
    "#    f4=c4/d4\n",
    "#    print('Division: ',e4/f4)\n",
    "\n",
    "import fra as f\n",
    "f.fr(2,5)\n",
    "f.add(1,10,3,5)\n",
    "f.sub(5,10,1,3)\n",
    "f.mul(3,5,1,3)\n",
    "f.div(2,7,12,35)"
   ]
  },
  {
   "cell_type": "code",
   "execution_count": 21,
   "metadata": {},
   "outputs": [],
   "source": [
    "#permutation\n",
    "def perm(list1,list2):\n",
    "    a = sum(l1)\n",
    "    b = sum(l2)\n",
    "    if a == b:\n",
    "        return True\n",
    "    else:\n",
    "        return False\n",
    "list1 = [1,2,1]\n",
    "list2 = [1,1,2]"
   ]
  },
  {
   "cell_type": "code",
   "execution_count": 22,
   "metadata": {},
   "outputs": [
    {
     "data": {
      "text/plain": [
       "True"
      ]
     },
     "execution_count": 22,
     "metadata": {},
     "output_type": "execute_result"
    }
   ],
   "source": [
    "perm(list1,list2)"
   ]
  },
  {
   "cell_type": "code",
   "execution_count": null,
   "metadata": {},
   "outputs": [],
   "source": []
  }
 ],
 "metadata": {
  "kernelspec": {
   "display_name": "Python 3",
   "language": "python",
   "name": "python3"
  },
  "language_info": {
   "codemirror_mode": {
    "name": "ipython",
    "version": 3
   },
   "file_extension": ".py",
   "mimetype": "text/x-python",
   "name": "python",
   "nbconvert_exporter": "python",
   "pygments_lexer": "ipython3",
   "version": "3.7.6"
  }
 },
 "nbformat": 4,
 "nbformat_minor": 4
}
