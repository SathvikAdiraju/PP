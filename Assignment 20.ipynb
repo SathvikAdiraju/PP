{
 "cells": [
  {
   "cell_type": "markdown",
   "metadata": {},
   "source": [
    "https://docs.google.com/document/d/1CbGHZZVdvtycg1h0OEHdZLhFJwulreunx3HK2lMwJRM/edit?usp=sharing\n",
    "Documentation link of assignment\n"
   ]
  },
  {
   "cell_type": "code",
   "execution_count": 1,
   "metadata": {},
   "outputs": [],
   "source": [
    "import pandas as pd\n",
    "import numpy as np\n",
    "import seaborn as sns\n",
    "import matplotlib.pyplot as plt\n",
    "%matplotlib inline\n",
    "import sklearn"
   ]
  },
  {
   "cell_type": "code",
   "execution_count": 2,
   "metadata": {},
   "outputs": [],
   "source": [
    "df=pd.read_csv('assign.csv')"
   ]
  },
  {
   "cell_type": "code",
   "execution_count": 3,
   "metadata": {},
   "outputs": [
    {
     "data": {
      "text/html": [
       "<div>\n",
       "<style scoped>\n",
       "    .dataframe tbody tr th:only-of-type {\n",
       "        vertical-align: middle;\n",
       "    }\n",
       "\n",
       "    .dataframe tbody tr th {\n",
       "        vertical-align: top;\n",
       "    }\n",
       "\n",
       "    .dataframe thead th {\n",
       "        text-align: right;\n",
       "    }\n",
       "</style>\n",
       "<table border=\"1\" class=\"dataframe\">\n",
       "  <thead>\n",
       "    <tr style=\"text-align: right;\">\n",
       "      <th></th>\n",
       "      <th>month_number</th>\n",
       "      <th>facecream</th>\n",
       "      <th>facewash</th>\n",
       "      <th>toothpaste</th>\n",
       "      <th>bathingsoap</th>\n",
       "      <th>shampoo</th>\n",
       "      <th>moisturizer</th>\n",
       "      <th>total_units</th>\n",
       "      <th>total_profit</th>\n",
       "    </tr>\n",
       "  </thead>\n",
       "  <tbody>\n",
       "    <tr>\n",
       "      <th>0</th>\n",
       "      <td>1</td>\n",
       "      <td>2500</td>\n",
       "      <td>1500</td>\n",
       "      <td>5200</td>\n",
       "      <td>9200</td>\n",
       "      <td>1200</td>\n",
       "      <td>1500</td>\n",
       "      <td>21100</td>\n",
       "      <td>211000</td>\n",
       "    </tr>\n",
       "    <tr>\n",
       "      <th>1</th>\n",
       "      <td>2</td>\n",
       "      <td>2630</td>\n",
       "      <td>1200</td>\n",
       "      <td>5100</td>\n",
       "      <td>6100</td>\n",
       "      <td>2100</td>\n",
       "      <td>1200</td>\n",
       "      <td>18330</td>\n",
       "      <td>183300</td>\n",
       "    </tr>\n",
       "    <tr>\n",
       "      <th>2</th>\n",
       "      <td>3</td>\n",
       "      <td>2140</td>\n",
       "      <td>1340</td>\n",
       "      <td>4550</td>\n",
       "      <td>9550</td>\n",
       "      <td>3550</td>\n",
       "      <td>1340</td>\n",
       "      <td>22470</td>\n",
       "      <td>224700</td>\n",
       "    </tr>\n",
       "    <tr>\n",
       "      <th>3</th>\n",
       "      <td>4</td>\n",
       "      <td>3400</td>\n",
       "      <td>1130</td>\n",
       "      <td>5870</td>\n",
       "      <td>8870</td>\n",
       "      <td>1870</td>\n",
       "      <td>1130</td>\n",
       "      <td>22270</td>\n",
       "      <td>222700</td>\n",
       "    </tr>\n",
       "    <tr>\n",
       "      <th>4</th>\n",
       "      <td>5</td>\n",
       "      <td>3600</td>\n",
       "      <td>1740</td>\n",
       "      <td>4560</td>\n",
       "      <td>7760</td>\n",
       "      <td>1560</td>\n",
       "      <td>1740</td>\n",
       "      <td>20960</td>\n",
       "      <td>209600</td>\n",
       "    </tr>\n",
       "    <tr>\n",
       "      <th>5</th>\n",
       "      <td>6</td>\n",
       "      <td>2760</td>\n",
       "      <td>1555</td>\n",
       "      <td>4890</td>\n",
       "      <td>7490</td>\n",
       "      <td>1890</td>\n",
       "      <td>1555</td>\n",
       "      <td>20140</td>\n",
       "      <td>201400</td>\n",
       "    </tr>\n",
       "    <tr>\n",
       "      <th>6</th>\n",
       "      <td>7</td>\n",
       "      <td>2980</td>\n",
       "      <td>1120</td>\n",
       "      <td>4780</td>\n",
       "      <td>8980</td>\n",
       "      <td>1780</td>\n",
       "      <td>1120</td>\n",
       "      <td>29550</td>\n",
       "      <td>295500</td>\n",
       "    </tr>\n",
       "    <tr>\n",
       "      <th>7</th>\n",
       "      <td>8</td>\n",
       "      <td>3700</td>\n",
       "      <td>1400</td>\n",
       "      <td>5860</td>\n",
       "      <td>9960</td>\n",
       "      <td>2860</td>\n",
       "      <td>1400</td>\n",
       "      <td>36140</td>\n",
       "      <td>361400</td>\n",
       "    </tr>\n",
       "    <tr>\n",
       "      <th>8</th>\n",
       "      <td>9</td>\n",
       "      <td>3540</td>\n",
       "      <td>1780</td>\n",
       "      <td>6100</td>\n",
       "      <td>8100</td>\n",
       "      <td>2100</td>\n",
       "      <td>1780</td>\n",
       "      <td>23400</td>\n",
       "      <td>234000</td>\n",
       "    </tr>\n",
       "    <tr>\n",
       "      <th>9</th>\n",
       "      <td>10</td>\n",
       "      <td>1990</td>\n",
       "      <td>1890</td>\n",
       "      <td>8300</td>\n",
       "      <td>10300</td>\n",
       "      <td>2300</td>\n",
       "      <td>1890</td>\n",
       "      <td>26670</td>\n",
       "      <td>266700</td>\n",
       "    </tr>\n",
       "    <tr>\n",
       "      <th>10</th>\n",
       "      <td>11</td>\n",
       "      <td>2340</td>\n",
       "      <td>2100</td>\n",
       "      <td>7300</td>\n",
       "      <td>13300</td>\n",
       "      <td>2400</td>\n",
       "      <td>2100</td>\n",
       "      <td>41280</td>\n",
       "      <td>412800</td>\n",
       "    </tr>\n",
       "    <tr>\n",
       "      <th>11</th>\n",
       "      <td>12</td>\n",
       "      <td>2900</td>\n",
       "      <td>1760</td>\n",
       "      <td>7400</td>\n",
       "      <td>14400</td>\n",
       "      <td>1800</td>\n",
       "      <td>1760</td>\n",
       "      <td>30020</td>\n",
       "      <td>300200</td>\n",
       "    </tr>\n",
       "  </tbody>\n",
       "</table>\n",
       "</div>"
      ],
      "text/plain": [
       "    month_number  facecream  facewash  toothpaste  bathingsoap  shampoo  \\\n",
       "0              1       2500      1500        5200         9200     1200   \n",
       "1              2       2630      1200        5100         6100     2100   \n",
       "2              3       2140      1340        4550         9550     3550   \n",
       "3              4       3400      1130        5870         8870     1870   \n",
       "4              5       3600      1740        4560         7760     1560   \n",
       "5              6       2760      1555        4890         7490     1890   \n",
       "6              7       2980      1120        4780         8980     1780   \n",
       "7              8       3700      1400        5860         9960     2860   \n",
       "8              9       3540      1780        6100         8100     2100   \n",
       "9             10       1990      1890        8300        10300     2300   \n",
       "10            11       2340      2100        7300        13300     2400   \n",
       "11            12       2900      1760        7400        14400     1800   \n",
       "\n",
       "    moisturizer  total_units  total_profit  \n",
       "0          1500        21100        211000  \n",
       "1          1200        18330        183300  \n",
       "2          1340        22470        224700  \n",
       "3          1130        22270        222700  \n",
       "4          1740        20960        209600  \n",
       "5          1555        20140        201400  \n",
       "6          1120        29550        295500  \n",
       "7          1400        36140        361400  \n",
       "8          1780        23400        234000  \n",
       "9          1890        26670        266700  \n",
       "10         2100        41280        412800  \n",
       "11         1760        30020        300200  "
      ]
     },
     "execution_count": 3,
     "metadata": {},
     "output_type": "execute_result"
    }
   ],
   "source": [
    "df"
   ]
  },
  {
   "cell_type": "code",
   "execution_count": 4,
   "metadata": {},
   "outputs": [
    {
     "name": "stdout",
     "output_type": "stream",
     "text": [
      "<class 'pandas.core.frame.DataFrame'>\n",
      "RangeIndex: 12 entries, 0 to 11\n",
      "Data columns (total 9 columns):\n",
      " #   Column        Non-Null Count  Dtype\n",
      "---  ------        --------------  -----\n",
      " 0   month_number  12 non-null     int64\n",
      " 1   facecream     12 non-null     int64\n",
      " 2   facewash      12 non-null     int64\n",
      " 3   toothpaste    12 non-null     int64\n",
      " 4   bathingsoap   12 non-null     int64\n",
      " 5   shampoo       12 non-null     int64\n",
      " 6   moisturizer   12 non-null     int64\n",
      " 7   total_units   12 non-null     int64\n",
      " 8   total_profit  12 non-null     int64\n",
      "dtypes: int64(9)\n",
      "memory usage: 992.0 bytes\n"
     ]
    }
   ],
   "source": [
    "df.info()"
   ]
  },
  {
   "cell_type": "code",
   "execution_count": 5,
   "metadata": {},
   "outputs": [
    {
     "data": {
      "text/html": [
       "<div>\n",
       "<style scoped>\n",
       "    .dataframe tbody tr th:only-of-type {\n",
       "        vertical-align: middle;\n",
       "    }\n",
       "\n",
       "    .dataframe tbody tr th {\n",
       "        vertical-align: top;\n",
       "    }\n",
       "\n",
       "    .dataframe thead th {\n",
       "        text-align: right;\n",
       "    }\n",
       "</style>\n",
       "<table border=\"1\" class=\"dataframe\">\n",
       "  <thead>\n",
       "    <tr style=\"text-align: right;\">\n",
       "      <th></th>\n",
       "      <th>month_number</th>\n",
       "      <th>facecream</th>\n",
       "      <th>facewash</th>\n",
       "      <th>toothpaste</th>\n",
       "      <th>bathingsoap</th>\n",
       "      <th>shampoo</th>\n",
       "      <th>moisturizer</th>\n",
       "      <th>total_units</th>\n",
       "      <th>total_profit</th>\n",
       "    </tr>\n",
       "  </thead>\n",
       "  <tbody>\n",
       "    <tr>\n",
       "      <th>count</th>\n",
       "      <td>12.000000</td>\n",
       "      <td>12.000000</td>\n",
       "      <td>12.000000</td>\n",
       "      <td>12.000000</td>\n",
       "      <td>12.000000</td>\n",
       "      <td>12.000000</td>\n",
       "      <td>12.000000</td>\n",
       "      <td>12.00000</td>\n",
       "      <td>12.000000</td>\n",
       "    </tr>\n",
       "    <tr>\n",
       "      <th>mean</th>\n",
       "      <td>6.500000</td>\n",
       "      <td>2873.333333</td>\n",
       "      <td>1542.916667</td>\n",
       "      <td>5825.833333</td>\n",
       "      <td>9500.833333</td>\n",
       "      <td>2117.500000</td>\n",
       "      <td>1542.916667</td>\n",
       "      <td>26027.50000</td>\n",
       "      <td>260275.000000</td>\n",
       "    </tr>\n",
       "    <tr>\n",
       "      <th>std</th>\n",
       "      <td>3.605551</td>\n",
       "      <td>584.595172</td>\n",
       "      <td>316.733745</td>\n",
       "      <td>1242.032486</td>\n",
       "      <td>2348.095779</td>\n",
       "      <td>617.724931</td>\n",
       "      <td>316.733745</td>\n",
       "      <td>7014.36594</td>\n",
       "      <td>70143.659404</td>\n",
       "    </tr>\n",
       "    <tr>\n",
       "      <th>min</th>\n",
       "      <td>1.000000</td>\n",
       "      <td>1990.000000</td>\n",
       "      <td>1120.000000</td>\n",
       "      <td>4550.000000</td>\n",
       "      <td>6100.000000</td>\n",
       "      <td>1200.000000</td>\n",
       "      <td>1120.000000</td>\n",
       "      <td>18330.00000</td>\n",
       "      <td>183300.000000</td>\n",
       "    </tr>\n",
       "    <tr>\n",
       "      <th>25%</th>\n",
       "      <td>3.750000</td>\n",
       "      <td>2460.000000</td>\n",
       "      <td>1305.000000</td>\n",
       "      <td>4862.500000</td>\n",
       "      <td>8015.000000</td>\n",
       "      <td>1795.000000</td>\n",
       "      <td>1305.000000</td>\n",
       "      <td>21065.00000</td>\n",
       "      <td>210650.000000</td>\n",
       "    </tr>\n",
       "    <tr>\n",
       "      <th>50%</th>\n",
       "      <td>6.500000</td>\n",
       "      <td>2830.000000</td>\n",
       "      <td>1527.500000</td>\n",
       "      <td>5530.000000</td>\n",
       "      <td>9090.000000</td>\n",
       "      <td>1995.000000</td>\n",
       "      <td>1527.500000</td>\n",
       "      <td>22935.00000</td>\n",
       "      <td>229350.000000</td>\n",
       "    </tr>\n",
       "    <tr>\n",
       "      <th>75%</th>\n",
       "      <td>9.250000</td>\n",
       "      <td>3435.000000</td>\n",
       "      <td>1765.000000</td>\n",
       "      <td>6400.000000</td>\n",
       "      <td>10045.000000</td>\n",
       "      <td>2325.000000</td>\n",
       "      <td>1765.000000</td>\n",
       "      <td>29667.50000</td>\n",
       "      <td>296675.000000</td>\n",
       "    </tr>\n",
       "    <tr>\n",
       "      <th>max</th>\n",
       "      <td>12.000000</td>\n",
       "      <td>3700.000000</td>\n",
       "      <td>2100.000000</td>\n",
       "      <td>8300.000000</td>\n",
       "      <td>14400.000000</td>\n",
       "      <td>3550.000000</td>\n",
       "      <td>2100.000000</td>\n",
       "      <td>41280.00000</td>\n",
       "      <td>412800.000000</td>\n",
       "    </tr>\n",
       "  </tbody>\n",
       "</table>\n",
       "</div>"
      ],
      "text/plain": [
       "       month_number    facecream     facewash   toothpaste   bathingsoap  \\\n",
       "count     12.000000    12.000000    12.000000    12.000000     12.000000   \n",
       "mean       6.500000  2873.333333  1542.916667  5825.833333   9500.833333   \n",
       "std        3.605551   584.595172   316.733745  1242.032486   2348.095779   \n",
       "min        1.000000  1990.000000  1120.000000  4550.000000   6100.000000   \n",
       "25%        3.750000  2460.000000  1305.000000  4862.500000   8015.000000   \n",
       "50%        6.500000  2830.000000  1527.500000  5530.000000   9090.000000   \n",
       "75%        9.250000  3435.000000  1765.000000  6400.000000  10045.000000   \n",
       "max       12.000000  3700.000000  2100.000000  8300.000000  14400.000000   \n",
       "\n",
       "           shampoo  moisturizer  total_units   total_profit  \n",
       "count    12.000000    12.000000     12.00000      12.000000  \n",
       "mean   2117.500000  1542.916667  26027.50000  260275.000000  \n",
       "std     617.724931   316.733745   7014.36594   70143.659404  \n",
       "min    1200.000000  1120.000000  18330.00000  183300.000000  \n",
       "25%    1795.000000  1305.000000  21065.00000  210650.000000  \n",
       "50%    1995.000000  1527.500000  22935.00000  229350.000000  \n",
       "75%    2325.000000  1765.000000  29667.50000  296675.000000  \n",
       "max    3550.000000  2100.000000  41280.00000  412800.000000  "
      ]
     },
     "execution_count": 5,
     "metadata": {},
     "output_type": "execute_result"
    }
   ],
   "source": [
    "#Get the basic description from the data\n",
    "df.describe()"
   ]
  },
  {
   "cell_type": "code",
   "execution_count": 6,
   "metadata": {},
   "outputs": [
    {
     "data": {
      "text/plain": [
       "0     211000\n",
       "1     183300\n",
       "2     224700\n",
       "3     222700\n",
       "4     209600\n",
       "5     201400\n",
       "6     295500\n",
       "7     361400\n",
       "8     234000\n",
       "9     266700\n",
       "10    412800\n",
       "11    300200\n",
       "Name: total_profit, dtype: int64"
      ]
     },
     "execution_count": 6,
     "metadata": {},
     "output_type": "execute_result"
    }
   ],
   "source": [
    "df['total_profit']"
   ]
  },
  {
   "cell_type": "code",
   "execution_count": 7,
   "metadata": {},
   "outputs": [],
   "source": [
    "#Get total profit of all months and show line plot with the following style properties. Generated line plot must include following style properties: –\n",
    "#Line Style dotted and Line-color should be red\n",
    "#Show legend at the lower right location.\n",
    "#X label name = month number\n",
    "#Y label name = sold units number\n",
    "#Add a circle marker.\n",
    "#Line marker color as read\n",
    "#Line width should be 3\n"
   ]
  },
  {
   "cell_type": "code",
   "execution_count": 8,
   "metadata": {},
   "outputs": [
    {
     "data": {
      "text/plain": [
       "<matplotlib.axes._subplots.AxesSubplot at 0x2827b5c0988>"
      ]
     },
     "execution_count": 8,
     "metadata": {},
     "output_type": "execute_result"
    },
    {
     "data": {
      "image/png": "[encoded data removed]",
      "text/plain": [
       "<Figure size 432x288 with 1 Axes>"
      ]
     },
     "metadata": {
      "needs_background": "light"
     },
     "output_type": "display_data"
    }
   ],
   "source": [
    "gra = df.plot(x='month_number',y='total_profit',label ='Profit month wise',color='r',marker='o',linewidth=3,linestyle='-')\n",
    "gra\n"
   ]
  },
  {
   "cell_type": "code",
   "execution_count": 9,
   "metadata": {},
   "outputs": [
    {
     "data": {
      "text/plain": [
       "<matplotlib.axes._subplots.AxesSubplot at 0x2827d6c1588>"
      ]
     },
     "execution_count": 9,
     "metadata": {},
     "output_type": "execute_result"
    },
    {
     "data": {
      "image/png": "[encoded data removed]",
      "text/plain": [
       "<Figure size 432x288 with 1 Axes>"
      ]
     },
     "metadata": {
      "needs_background": "light"
     },
     "output_type": "display_data"
    }
   ],
   "source": [
    "#Read all product sales data and show it using a multi line plot\n",
    "gra1=df.plot(x='month_number',y=['facecream','facewash','toothpaste','bathingsoap','shampoo','moisturizer'],marker='o',linewidth=3,linestyle='-',)\n",
    "gra1"
   ]
  },
  {
   "cell_type": "code",
   "execution_count": 10,
   "metadata": {},
   "outputs": [
    {
     "data": {
      "text/plain": [
       "<matplotlib.axes._subplots.AxesSubplot at 0x2827d736d88>"
      ]
     },
     "execution_count": 10,
     "metadata": {},
     "output_type": "execute_result"
    },
    {
     "data": {
      "image/png": "[encoded data removed]",
      "text/plain": [
       "<Figure size 432x288 with 1 Axes>"
      ]
     },
     "metadata": {
      "needs_background": "light"
     },
     "output_type": "display_data"
    }
   ],
   "source": [
    "#Read toothpaste sales data of each month and show it using a scatter plot\n",
    "gra2=df.plot(x='month_number',y='toothpaste',kind='scatter')\n",
    "gra2"
   ]
  },
  {
   "cell_type": "code",
   "execution_count": 11,
   "metadata": {},
   "outputs": [
    {
     "data": {
      "text/plain": [
       "<matplotlib.axes._subplots.AxesSubplot at 0x2827d7dd5c8>"
      ]
     },
     "execution_count": 11,
     "metadata": {},
     "output_type": "execute_result"
    },
    {
     "data": {
      "image/png": "[encoded data removed]",
      "text/plain": [
       "<Figure size 576x576 with 1 Axes>"
      ]
     },
     "metadata": {
      "needs_background": "light"
     },
     "output_type": "display_data"
    }
   ],
   "source": [
    "#Read face cream and face wash product sales data and show it using the bar chart\n",
    "gra3=df.plot(x='month_number',y=['facecream','facewash'],kind='bar',figsize=(8,8))\n",
    "gra3"
   ]
  },
  {
   "cell_type": "code",
   "execution_count": 12,
   "metadata": {},
   "outputs": [
    {
     "data": {
      "image/png": "[encoded data removed]",
      "text/plain": [
       "<Figure size 432x288 with 2 Axes>"
      ]
     },
     "metadata": {
      "needs_background": "light"
     },
     "output_type": "display_data"
    }
   ],
   "source": [
    "#Read Bathing soap, face wash of all months and display it using the Subplot\n",
    "f, sop = plt.subplots(2, sharex=True)\n",
    "sop[0].plot(df['month_number'], df['bathingsoap'], label = 'Soap Sales Data', color='b', marker='o', linewidth=3)\n",
    "sop[0].set_title('Sales data of Soap')\n",
    "sop[1].plot(df['month_number'], df['facewash'], label = 'Face Wash Sales Data', color='y', marker='o', linewidth=3)\n",
    "sop[1].set_title('Sales data of facewash')\n",
    "plt.xlabel('Month Number')\n",
    "plt.show()"
   ]
  },
  {
   "cell_type": "code",
   "execution_count": 13,
   "metadata": {},
   "outputs": [
    {
     "data": {
      "text/plain": [
       "(array([1., 6., 2., 1., 1., 1.]),\n",
       " array([150000, 200000, 250000, 300000, 350000, 400000, 450000]),\n",
       " <a list of 6 Patch objects>)"
      ]
     },
     "execution_count": 13,
     "metadata": {},
     "output_type": "execute_result"
    },
    {
     "data": {
      "image/png": "[encoded data removed]",
      "text/plain": [
       "<Figure size 432x288 with 1 Axes>"
      ]
     },
     "metadata": {
      "needs_background": "light"
     },
     "output_type": "display_data"
    }
   ],
   "source": [
    "#Read the total profit of each month and show it using the histogram to see most common profit ranges\n",
    "plt.hist(df['total_profit'],[150000,200000,250000,300000,350000,400000,450000])"
   ]
  }
 ],
 "metadata": {
  "kernelspec": {
   "display_name": "Python 3",
   "language": "python",
   "name": "python3"
  },
  "language_info": {
   "codemirror_mode": {
    "name": "ipython",
    "version": 3
   },
   "file_extension": ".py",
   "mimetype": "text/x-python",
   "name": "python",
   "nbconvert_exporter": "python",
   "pygments_lexer": "ipython3",
   "version": "3.7.6"
  }
 },
 "nbformat": 4,
 "nbformat_minor": 4
}
