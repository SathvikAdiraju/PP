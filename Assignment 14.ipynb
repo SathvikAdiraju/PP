{
 "cells": [
  {
   "cell_type": "code",
   "execution_count": 1,
   "metadata": {},
   "outputs": [
    {
     "name": "stdout",
     "output_type": "stream",
     "text": [
      "4\n",
      "a\n",
      "aa\n",
      "abcd\n",
      "aaaaa\n",
      "Yes\n",
      "Yes\n",
      "No\n",
      "Yes\n"
     ]
    }
   ],
   "source": [
    "#problem 1\n",
    "def left(x):\n",
    "    return x[1:]+x[0]\n",
    "def right(x):\n",
    "    return x[-1]+x[0:len(x)-1]\n",
    "n=int(input())\n",
    "list1=[input() for i in range(n)]\n",
    "for x in list1:\n",
    "    if left(x)==right(x):\n",
    "        print('Yes')\n",
    "    else:\n",
    "        print('No')"
   ]
  },
  {
   "cell_type": "code",
   "execution_count": 3,
   "metadata": {},
   "outputs": [
    {
     "name": "stdout",
     "output_type": "stream",
     "text": [
      "2\n"
     ]
    }
   ],
   "source": [
    "#problem 2\n",
    "i=20\n",
    "j=23\n",
    "k=6\n",
    "count=0\n",
    "for i in range(i,j+1):\n",
    "    r=str(i)[::-1]\n",
    "    r=int(r)\n",
    "    d=i-r\n",
    "    if(d%k==0):\n",
    "        count+=1\n",
    "        i+=1\n",
    "        continue\n",
    "    else:\n",
    "        i+=1\n",
    "        continue\n",
    "print(count)\n",
    "        \n",
    "        \n",
    "\n",
    "\n",
    "        \n",
    "    "
   ]
  },
  {
   "cell_type": "code",
   "execution_count": 19,
   "metadata": {},
   "outputs": [],
   "source": [
    "#problem 3\n",
    "def bcc(list2):\n",
    "    count=0\n",
    "    a = max(list2)\n",
    "    for i in range(len(list2)):\n",
    "        if(list2[i]==a):\n",
    "            count+=1\n",
    "    return count\n",
    "    "
   ]
  },
  {
   "cell_type": "code",
   "execution_count": 20,
   "metadata": {},
   "outputs": [
    {
     "data": {
      "text/plain": [
       "2"
      ]
     },
     "execution_count": 20,
     "metadata": {},
     "output_type": "execute_result"
    }
   ],
   "source": [
    "bcc([3,2,1,3])"
   ]
  },
  {
   "cell_type": "code",
   "execution_count": 22,
   "metadata": {},
   "outputs": [
    {
     "name": "stdout",
     "output_type": "stream",
     "text": [
      "enter195\n",
      "9339\n"
     ]
    }
   ],
   "source": [
    "#problem 5\n",
    "a=int(input(\"enter\"))\n",
    "while True:\n",
    "    if str(a)==str(a)[::-1]:\n",
    "        print(a)\n",
    "        break\n",
    "    else:\n",
    "        c=str(a)[::-1]\n",
    "        b=int(c)\n",
    "        a=b+a\n"
   ]
  },
  {
   "cell_type": "code",
   "execution_count": 1,
   "metadata": {},
   "outputs": [
    {
     "name": "stdout",
     "output_type": "stream",
     "text": [
      "1,2,1,4\n",
      "output :  4211,12\n"
     ]
    }
   ],
   "source": [
    "#problem 4 case 1\n",
    "import itertools as it\n",
    "a=list(map(str,input().split(',')))\n",
    "p = it.permutations(a, len(a))\n",
    "x = list(set(p))               \n",
    "l = []\n",
    "for i in x:                          \n",
    "    p = ''.join(i)                   \n",
    "    l.append(int(p))\n",
    "l.sort()\n",
    "print(\"output : \",str(l[-1])+','+str(len(l)))"
   ]
  },
  {
   "cell_type": "code",
   "execution_count": 2,
   "metadata": {},
   "outputs": [
    {
     "name": "stdout",
     "output_type": "stream",
     "text": [
      "1,2,1\n",
      "output :  211,3\n"
     ]
    }
   ],
   "source": [
    "#problem 4 case 2\n",
    "import itertools as it\n",
    "a=list(map(str,input().split(',')))\n",
    "p = it.permutations(a, len(a))\n",
    "x = list(set(p))               \n",
    "l = []\n",
    "for i in x:                          \n",
    "    p = ''.join(i)                   \n",
    "    l.append(int(p))\n",
    "l.sort()\n",
    "print(\"output : \",str(l[-1])+','+str(len(l)))"
   ]
  },
  {
   "cell_type": "code",
   "execution_count": 5,
   "metadata": {},
   "outputs": [
    {
     "name": "stdout",
     "output_type": "stream",
     "text": [
      "2\n",
      "5 3\n",
      "2 4 2 4 2\n",
      "5\n",
      "8 5\n",
      "9 3 5 7 8 11 17 2\n",
      "3\n"
     ]
    }
   ],
   "source": [
    "#problem 6\n",
    "for i in range(int(input())):\n",
    "    n,k = map(int,input().split())\n",
    "    a = list(map(int,input().split()))\n",
    "    c,x,i1,i2,b = 0,0,0,0,list()\n",
    "    for j in range(n):\n",
    "        c += 1\n",
    "        if a[j] > k :\n",
    "            x += 1\n",
    "            if x == 1 :\n",
    "                i1 = j\n",
    "            else:\n",
    "                if a[j] == a[i1]:\n",
    "                    x -= 1\n",
    "                else:i2 = j\n",
    "        if x == 2 :\n",
    "            x = 1\n",
    "            b.append(c-1)\n",
    "            c = i2-i1\n",
    "            i1 = i2\n",
    "            i2 = 0\n",
    "        if j == n-1 and b == [ ]:b.append(n)\n",
    "    print(max(b))"
   ]
  },
  {
   "cell_type": "code",
   "execution_count": 6,
   "metadata": {},
   "outputs": [
    {
     "name": "stdout",
     "output_type": "stream",
     "text": [
      "xyz:750,abc:265,qwerty:195\n"
     ]
    },
    {
     "data": {
      "text/plain": [
       "'abc'"
      ]
     },
     "execution_count": 6,
     "metadata": {},
     "output_type": "execute_result"
    }
   ],
   "source": [
    "#problem 7\n",
    "s=input()\n",
    "list1=s.split(\",\")\n",
    "list2=[i.split(\":\")[1] for i in list1]\n",
    "list3=[]\n",
    "for num in list2:\n",
    "    n=int(num)\n",
    "    rev=num[::-1]\n",
    "    while str(n)!=rev:\n",
    "        n+=int(rev)\n",
    "        rev=str(n)[::-1]\n",
    "    list3.append(n)\n",
    "list1[list3.index(max(list3))].split(\":\")[0]"
   ]
  },
  {
   "cell_type": "code",
   "execution_count": 7,
   "metadata": {},
   "outputs": [
    {
     "name": "stdout",
     "output_type": "stream",
     "text": [
      "{'admin': ['local', 'public', 'administrator'], 'userA': ['local'], 'userB': ['public']}\n"
     ]
    }
   ],
   "source": [
    "#problem 8\n",
    "def guser(groups):\n",
    "    usergroup = {}\n",
    "    for group,users in groups.items():\n",
    "        for user in users:\n",
    "             usergroup[user] = usergroup.get(user,[]) + [group]\n",
    "\n",
    "    return(usergroup)\n",
    "\n",
    "print(guser({\"local\": [\"admin\", \"userA\"],\n",
    "        \"public\":  [\"admin\", \"userB\"],\n",
    "        \"administrator\": [\"admin\"] }))"
   ]
  },
  {
   "cell_type": "code",
   "execution_count": 8,
   "metadata": {},
   "outputs": [
    {
     "name": "stdout",
     "output_type": "stream",
     "text": [
      "london 40000 12,chicago 60000 20,munich 50000 15,paris 70000 5\n",
      "['london 40000 12', 'chicago 60000 20', 'munich 50000 15', 'paris 70000 5']\n",
      "paris munich "
     ]
    }
   ],
   "source": [
    "#problem 9\n",
    "s=input()\n",
    "l=s.split(',')\n",
    "print(l)\n",
    "a={}\n",
    "b={}\n",
    "al=[]\n",
    "bl=[]\n",
    "for i in l:\n",
    "    a1=list(i.split())\n",
    "    a[a1[0]]=int(a1[1])\n",
    "    b[a1[0]]=int(a1[2])\n",
    "a1 = sorted(a.items(), key=lambda x: x[1],reverse=True)\n",
    "b1 = sorted(b.items(), key=lambda x: x[1])\n",
    "for i in a1:\n",
    "    al.append(i[0])\n",
    "for i in b1:\n",
    "    bl.append(i[0])\n",
    "for i in range(0,len(a1)):\n",
    "    if(al[i]==bl[i]):\n",
    "        print(al[i],end=\" \")"
   ]
  },
  {
   "cell_type": "code",
   "execution_count": 10,
   "metadata": {},
   "outputs": [
    {
     "name": "stdout",
     "output_type": "stream",
     "text": [
      "[(8, 0, 0), (3, 5, 0), (0, 5, 3), (5, 0, 3), (5, 3, 0), (2, 3, 3), (2, 5, 1), (7, 0, 1), (7, 1, 0), (4, 1, 3), (4, 4, 0)]\n",
      "11\n"
     ]
    }
   ],
   "source": [
    "#problem 10\n",
    "capacity = (8,5,3)\n",
    "x = capacity[0]\n",
    "y = capacity[1]\n",
    "z = capacity[2]\n",
    "mem = {}\n",
    "ans = []\n",
    "\n",
    "def allstates(state):\n",
    "  a = state[0]\n",
    "  b = state[1]\n",
    "  c = state[2]\n",
    "\n",
    "  if(a==4 and b==4):\n",
    "      ans.append(state)\n",
    "      return True\n",
    "\n",
    "  if((a,b,c) in mem):\n",
    "      return False\n",
    "\n",
    "  mem[(a,b,c)] = 1\n",
    "  if(a>0):\n",
    "      if(a+b<=y):\n",
    "          if(allstates((0,a+b,c)) ):\n",
    "              ans.append(state)\n",
    "              return True\n",
    "      else:\n",
    "          if(allstates((a-(y-b), y, c)) ):\n",
    "              ans.append(state)\n",
    "              return True\n",
    "      if(a+c<=z):\n",
    "          if(allstates((0,b,a+c)) ):\n",
    "              ans.append(state)\n",
    "              return True\n",
    "      else:\n",
    "          if(allstates((a-(z-c), b, z)) ):\n",
    "              ans.append(state)\n",
    "              return True\n",
    "  if(b>0):\n",
    "      if(a+b<=x):\n",
    "          if(allstates((a+b, 0, c)) ):\n",
    "              ans.append(state)\n",
    "              return True\n",
    "      else:\n",
    "          if(allstates((x, b-(x-a), c)) ):\n",
    "              ans.append(state)\n",
    "              return True\n",
    "      if(b+c<=z):\n",
    "          if(allstates((a, 0, b+c)) ):\n",
    "              ans.append(state)\n",
    "              return True\n",
    "      else:\n",
    "          if(allstates((a, b-(z-c), z)) ):\n",
    "              ans.append(state)\n",
    "              return True\n",
    "  if(c>0):\n",
    "      if(a+c<=x):\n",
    "          if(allstates((a+c, b, 0)) ):\n",
    "              ans.append(state)\n",
    "              return True\n",
    "      else:\n",
    "          if(allstates((x, b, c-(x-a))) ):\n",
    "              ans.append(state)\n",
    "              return True\n",
    "      if(b+c<=y):\n",
    "          if(allstates((a, b+c, 0)) ):\n",
    "              ans.append(state)\n",
    "              return True\n",
    "      else:\n",
    "          if(allstates((a, y, c-(y-b))) ):\n",
    "              ans.append(state)\n",
    "              return True\n",
    "\n",
    "  return False\n",
    "\n",
    "initial = (8,0,0)\n",
    "allstates(initial)\n",
    "ans.reverse()\n",
    "print(ans)\n",
    "print(len(ans))"
   ]
  },
  {
   "cell_type": "code",
   "execution_count": null,
   "metadata": {},
   "outputs": [],
   "source": []
  }
 ],
 "metadata": {
  "kernelspec": {
   "display_name": "Python 3",
   "language": "python",
   "name": "python3"
  },
  "language_info": {
   "codemirror_mode": {
    "name": "ipython",
    "version": 3
   },
   "file_extension": ".py",
   "mimetype": "text/x-python",
   "name": "python",
   "nbconvert_exporter": "python",
   "pygments_lexer": "ipython3",
   "version": "3.7.6"
  }
 },
 "nbformat": 4,
 "nbformat_minor": 4
}
