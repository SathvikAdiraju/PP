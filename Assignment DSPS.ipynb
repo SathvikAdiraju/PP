{
 "cells": [
  {
   "cell_type": "code",
   "execution_count": 7,
   "metadata": {},
   "outputs": [
    {
     "name": "stdout",
     "output_type": "stream",
     "text": [
      "a is4\n",
      "b is-8\n",
      "c is4\n",
      "1.0\n",
      "1.0\n"
     ]
    }
   ],
   "source": [
    "#roots of quadratic equation\n",
    "a=int(input(\"a is\"))\n",
    "b=int(input(\"b is\"))\n",
    "c=int(input(\"c is\"))\n",
    "if (((b**2)-4*a*c)==0):\n",
    "    d=(-b/(2*a))\n",
    "    e=(-b/(2*a))\n",
    "    print(d)\n",
    "    print(e)\n",
    "elif (((b**2)-4*a*c)>0):\n",
    "    d=(-b+(((b**2)-4*a*c)**0.5))/(2*a)\n",
    "    e=(-b-(((b**2)-4*a*c)**0.5))/(2*a)\n",
    "    print(d)\n",
    "    print(e)\n",
    "\n",
    "else:\n",
    "    print(\"roots are imaginary\")"
   ]
  },
  {
   "cell_type": "code",
   "execution_count": 8,
   "metadata": {},
   "outputs": [
    {
     "name": "stdout",
     "output_type": "stream",
     "text": [
      "a is3\n",
      "b is-8\n",
      "c is4\n",
      "2.0\n",
      "0.6666666666666666\n"
     ]
    }
   ],
   "source": [
    "#roots of quadratic equation\n",
    "a=int(input(\"a is\"))\n",
    "b=int(input(\"b is\"))\n",
    "c=int(input(\"c is\"))\n",
    "if (((b**2)-4*a*c)==0):\n",
    "    d=(-b/(2*a))\n",
    "    e=(-b/(2*a))\n",
    "    print(d)\n",
    "    print(e)\n",
    "elif (((b**2)-4*a*c)>0):\n",
    "    d=(-b+(((b**2)-4*a*c)**0.5))/(2*a)\n",
    "    e=(-b-(((b**2)-4*a*c)**0.5))/(2*a)\n",
    "    print(d)\n",
    "    print(e)\n",
    "\n",
    "else:\n",
    "    print(\"roots are imaginary\")"
   ]
  },
  {
   "cell_type": "code",
   "execution_count": 10,
   "metadata": {},
   "outputs": [
    {
     "name": "stdout",
     "output_type": "stream",
     "text": [
      "a is3\n",
      "b is1\n",
      "c is3\n",
      "roots are imaginary\n"
     ]
    }
   ],
   "source": [
    "#roots of quadratic equation\n",
    "a=int(input(\"a is\"))\n",
    "b=int(input(\"b is\"))\n",
    "c=int(input(\"c is\"))\n",
    "if (((b**2)-4*a*c)==0):\n",
    "    d=(-b/(2*a))\n",
    "    e=(-b/(2*a))\n",
    "    print(d)\n",
    "    print(e)\n",
    "elif (((b**2)-4*a*c)>0):\n",
    "    d=(-b+(((b**2)-4*a*c)**0.5))/(2*a)\n",
    "    e=(-b-(((b**2)-4*a*c)**0.5))/(2*a)\n",
    "    print(d)\n",
    "    print(e)\n",
    "\n",
    "else:\n",
    "    print(\"roots are imaginary\")"
   ]
  },
  {
   "cell_type": "code",
   "execution_count": 19,
   "metadata": {},
   "outputs": [
    {
     "name": "stdout",
     "output_type": "stream",
     "text": [
      "enter5\n",
      "* \n",
      "\n",
      "* * \n",
      "\n",
      "* * * \n",
      "\n",
      "* * * * \n",
      "\n",
      "* * * * * \n",
      "\n"
     ]
    }
   ],
   "source": [
    "#pattern\n",
    "n=int(input(\"enter\"))\n",
    "i=1\n",
    "j=i\n",
    "for i in range(0,n):\n",
    "    for j in range(0,i+1):\n",
    "        print(\"* \",end=\"\")\n",
    "    print(\"\\n\")"
   ]
  },
  {
   "cell_type": "code",
   "execution_count": 34,
   "metadata": {},
   "outputs": [
    {
     "name": "stdout",
     "output_type": "stream",
     "text": [
      "value7\n",
      "7\n",
      "14\n",
      "21\n",
      "28\n",
      "35\n",
      "42\n",
      "49\n",
      "56\n",
      "63\n",
      "70\n"
     ]
    }
   ],
   "source": [
    "#multiply k number \n",
    "k=int(input(\"value\"))\n",
    "for i in range(1,11):\n",
    "    print(k*i)"
   ]
  },
  {
   "cell_type": "code",
   "execution_count": 33,
   "metadata": {},
   "outputs": [
    {
     "name": "stdout",
     "output_type": "stream",
     "text": [
      "enter7\n",
      "[1, 1, 1] "
     ]
    }
   ],
   "source": [
    "n=int(input(\"enter\"))\n",
    "c=[]\n",
    "while n>0:\n",
    "    d=n%2\n",
    "    c.append(d)\n",
    "    n=n//2\n",
    "    \n",
    "print(c,end=\" \")"
   ]
  },
  {
   "cell_type": "code",
   "execution_count": 35,
   "metadata": {},
   "outputs": [
    {
     "name": "stdout",
     "output_type": "stream",
     "text": [
      "no.1 is: 0\n",
      "no.2 is: 1\n",
      "n terms5\n",
      "0 1 1 2 3 "
     ]
    }
   ],
   "source": [
    "#fibonacci series\n",
    "a=int(input(\"no.1 is: \"))\n",
    "b=int(input(\"no.2 is: \"))\n",
    "n=int(input(\"n terms\"))\n",
    "print(a,b,end=\" \")\n",
    "while(n-2):\n",
    "    c=a+b\n",
    "    a=b\n",
    "    b=c\n",
    "    print(c,end=\" \")\n",
    "    n=n-1"
   ]
  },
  {
   "cell_type": "code",
   "execution_count": null,
   "metadata": {},
   "outputs": [],
   "source": []
  }
 ],
 "metadata": {
  "kernelspec": {
   "display_name": "Python 3",
   "language": "python",
   "name": "python3"
  },
  "language_info": {
   "codemirror_mode": {
    "name": "ipython",
    "version": 3
   },
   "file_extension": ".py",
   "mimetype": "text/x-python",
   "name": "python",
   "nbconvert_exporter": "python",
   "pygments_lexer": "ipython3",
   "version": "3.7.6"
  }
 },
 "nbformat": 4,
 "nbformat_minor": 4
}
