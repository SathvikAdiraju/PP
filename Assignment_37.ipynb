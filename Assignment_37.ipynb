{
  "nbformat": 4,
  "nbformat_minor": 0,
  "metadata": {
    "colab": {
      "name": "Assignment 37.ipynb",
      "provenance": []
    },
    "kernelspec": {
      "display_name": "Python 3",
      "language": "python",
      "name": "python3"
    },
    "language_info": {
      "codemirror_mode": {
        "name": "ipython",
        "version": 3
      },
      "file_extension": ".py",
      "mimetype": "text/x-python",
      "name": "python",
      "nbconvert_exporter": "python",
      "pygments_lexer": "ipython3",
      "version": "3.7.6"
    }
  },
  "cells": [
    {
      "cell_type": "code",
      "metadata": {
        "colab_type": "code",
        "id": "uX_yTmw2FV9U",
        "colab": {}
      },
      "source": [
        "import tensorflow as tf\n",
        "import tensorflow.keras as keras\n",
        "import numpy as np\n",
        "import matplotlib.pyplot as plt\n",
        "%matplotlib inline"
      ],
      "execution_count": 1,
      "outputs": []
    },
    {
      "cell_type": "code",
      "metadata": {
        "colab_type": "code",
        "id": "sVRllwXyFeTC",
        "colab": {
          "base_uri": "https://localhost:8080/",
          "height": 34
        },
        "outputId": "a9394e50-da32-4b02-ae79-52d5f9f2cb43"
      },
      "source": [
        "from keras.datasets.mnist import load_data"
      ],
      "execution_count": 2,
      "outputs": [
        {
          "output_type": "stream",
          "text": [
            "Using TensorFlow backend.\n"
          ],
          "name": "stderr"
        }
      ]
    },
    {
      "cell_type": "code",
      "metadata": {
        "colab_type": "code",
        "id": "q-IO4IHGFiGu",
        "colab": {
          "base_uri": "https://localhost:8080/",
          "height": 85
        },
        "outputId": "3f0a0e8b-61f0-4844-eaf1-8edeea419098"
      },
      "source": [
        "(train_digits,train_labels),(test_digits,test_labels)=load_data()\n",
        "print(train_digits.shape)\n",
        "print(test_digits.shape)"
      ],
      "execution_count": 3,
      "outputs": [
        {
          "output_type": "stream",
          "text": [
            "Downloading data from https://s3.amazonaws.com/img-datasets/mnist.npz\n",
            "11493376/11490434 [==============================] - 2s 0us/step\n",
            "(60000, 28, 28)\n",
            "(10000, 28, 28)\n"
          ],
          "name": "stdout"
        }
      ]
    },
    {
      "cell_type": "code",
      "metadata": {
        "colab_type": "code",
        "id": "6MxmXm7DFlru",
        "colab": {
          "base_uri": "https://localhost:8080/",
          "height": 221
        },
        "outputId": "2974bba2-d385-4270-e441-b2cbc04f8eb5"
      },
      "source": [
        "import pandas as pd\n",
        "pd.Series(train_labels).value_counts"
      ],
      "execution_count": 4,
      "outputs": [
        {
          "output_type": "execute_result",
          "data": {
            "text/plain": [
              "<bound method IndexOpsMixin.value_counts of 0        5\n",
              "1        0\n",
              "2        4\n",
              "3        1\n",
              "4        9\n",
              "        ..\n",
              "59995    8\n",
              "59996    3\n",
              "59997    5\n",
              "59998    6\n",
              "59999    8\n",
              "Length: 60000, dtype: uint8>"
            ]
          },
          "metadata": {
            "tags": []
          },
          "execution_count": 4
        }
      ]
    },
    {
      "cell_type": "code",
      "metadata": {
        "colab_type": "code",
        "id": "nR445WoSFqZa",
        "colab": {
          "base_uri": "https://localhost:8080/",
          "height": 221
        },
        "outputId": "c0934bd5-3663-4e2d-9bfe-7ce9e99d57b3"
      },
      "source": [
        "pd.Series(test_labels).value_counts"
      ],
      "execution_count": 5,
      "outputs": [
        {
          "output_type": "execute_result",
          "data": {
            "text/plain": [
              "<bound method IndexOpsMixin.value_counts of 0       7\n",
              "1       2\n",
              "2       1\n",
              "3       0\n",
              "4       4\n",
              "       ..\n",
              "9995    2\n",
              "9996    3\n",
              "9997    4\n",
              "9998    5\n",
              "9999    6\n",
              "Length: 10000, dtype: uint8>"
            ]
          },
          "metadata": {
            "tags": []
          },
          "execution_count": 5
        }
      ]
    },
    {
      "cell_type": "code",
      "metadata": {
        "colab_type": "code",
        "id": "cpAtNO7vGjmt",
        "colab": {
          "base_uri": "https://localhost:8080/",
          "height": 282
        },
        "outputId": "487ed448-ddb9-479f-bd72-5b92df395a44"
      },
      "source": [
        "plt.imshow(train_digits[0])"
      ],
      "execution_count": 6,
      "outputs": [
        {
          "output_type": "execute_result",
          "data": {
            "text/plain": [
              "<matplotlib.image.AxesImage at 0x7ff1486f1160>"
            ]
          },
          "metadata": {
            "tags": []
          },
          "execution_count": 6
        },
        {
          "output_type": "display_data",
          "data": {
            "image/png": "[encoded data removed]",
            "text/plain": [
              "<Figure size 432x288 with 1 Axes>"
            ]
          },
          "metadata": {
            "tags": [],
            "needs_background": "light"
          }
        }
      ]
    },
    {
      "cell_type": "code",
      "metadata": {
        "colab_type": "code",
        "id": "S0rAqfS4GnH8",
        "colab": {
          "base_uri": "https://localhost:8080/",
          "height": 298
        },
        "outputId": "2bbda7ae-ec55-4213-9367-a53ac72c2272"
      },
      "source": [
        "plt.title(\"Digit:\"+str(train_labels[0]))\n",
        "plt.imshow(train_digits[0],cmap=\"gray\")"
      ],
      "execution_count": 7,
      "outputs": [
        {
          "output_type": "execute_result",
          "data": {
            "text/plain": [
              "<matplotlib.image.AxesImage at 0x7ff1481a7278>"
            ]
          },
          "metadata": {
            "tags": []
          },
          "execution_count": 7
        },
        {
          "output_type": "display_data",
          "data": {
            "image/png": "[encoded data removed]",
            "text/plain": [
              "<Figure size 432x288 with 1 Axes>"
            ]
          },
          "metadata": {
            "tags": [],
            "needs_background": "light"
          }
        }
      ]
    },
    {
      "cell_type": "code",
      "metadata": {
        "colab_type": "code",
        "id": "XszRGi1RGqqn",
        "colab": {
          "base_uri": "https://localhost:8080/",
          "height": 265
        },
        "outputId": "2830ac90-6d13-40dc-fc32-e5ac00a0419d"
      },
      "source": [
        "plt.hist(train_digits[0])\n",
        "plt.show()"
      ],
      "execution_count": 8,
      "outputs": [
        {
          "output_type": "display_data",
          "data": {
            "image/png": "[encoded data removed]",
            "text/plain": [
              "<Figure size 432x288 with 1 Axes>"
            ]
          },
          "metadata": {
            "tags": [],
            "needs_background": "light"
          }
        }
      ]
    },
    {
      "cell_type": "code",
      "metadata": {
        "colab_type": "code",
        "id": "uGIFHbm_GtjS",
        "colab": {
          "base_uri": "https://localhost:8080/",
          "height": 51
        },
        "outputId": "83e78a33-beb0-44cb-fcde-f14cff15b5ef"
      },
      "source": [
        "samp=np.random.randint(train_digits.shape[0],size=16)\n",
        "samp"
      ],
      "execution_count": 9,
      "outputs": [
        {
          "output_type": "execute_result",
          "data": {
            "text/plain": [
              "array([44755, 47813, 38578, 49728, 17231, 39107, 48908, 23641, 58359,\n",
              "       44331, 13999, 42303, 15255,  1877, 39408, 54044])"
            ]
          },
          "metadata": {
            "tags": []
          },
          "execution_count": 9
        }
      ]
    },
    {
      "cell_type": "code",
      "metadata": {
        "colab_type": "code",
        "id": "vhECXaU1GwfB",
        "colab": {
          "base_uri": "https://localhost:8080/",
          "height": 917
        },
        "outputId": "808603b9-ae6c-4779-c24c-e3148249af65"
      },
      "source": [
        "plt.figure(figsize=(16,16))\n",
        "j=1\n",
        "for i in samp:\n",
        "  plt.subplot(4,4,j)\n",
        "  plt.imshow(train_digits[i])\n",
        "  plt.title(\"Digit:\"+str(train_labels[i]))\n",
        "  plt.axis(\"off\")\n",
        "  j=j+1"
      ],
      "execution_count": 10,
      "outputs": [
        {
          "output_type": "display_data",
          "data": {
            "image/png": "[encoded data removed]",
            "text/plain": [
              "<Figure size 1152x1152 with 16 Axes>"
            ]
          },
          "metadata": {
            "tags": [],
            "needs_background": "light"
          }
        }
      ]
    },
    {
      "cell_type": "code",
      "metadata": {
        "colab_type": "code",
        "id": "CeS8uGOyGzyz",
        "colab": {}
      },
      "source": [
        "train_digits_sc=train_digits/255.0\n",
        "test_digits_sc=test_digits/255.0"
      ],
      "execution_count": 11,
      "outputs": []
    },
    {
      "cell_type": "code",
      "metadata": {
        "colab_type": "code",
        "id": "LwUpm-xEG7u3",
        "colab": {}
      },
      "source": [
        "from keras.utils import to_categorical"
      ],
      "execution_count": 12,
      "outputs": []
    },
    {
      "cell_type": "code",
      "metadata": {
        "colab_type": "code",
        "id": "yh10UxdnG-UK",
        "colab": {}
      },
      "source": [
        "train_labels_cat=to_categorical(train_labels)"
      ],
      "execution_count": 13,
      "outputs": []
    },
    {
      "cell_type": "code",
      "metadata": {
        "colab_type": "code",
        "id": "AqlD3bDSHAos",
        "colab": {}
      },
      "source": [
        "test_labels_cat=to_categorical(test_labels)"
      ],
      "execution_count": 14,
      "outputs": []
    },
    {
      "cell_type": "code",
      "metadata": {
        "colab_type": "code",
        "id": "ZmPeSz9QHDIO",
        "colab": {
          "base_uri": "https://localhost:8080/",
          "height": 85
        },
        "outputId": "34b17ffb-d7b8-4185-d5b6-58bca4b4f4a6"
      },
      "source": [
        "from sklearn.model_selection import train_test_split\n",
        "x_train,x_val,y_train,y_val=train_test_split(train_digits_sc,train_labels_cat,test_size=0.1,random_state=32)\n",
        "print(x_train.shape)\n",
        "print(x_val.shape)\n",
        "print(y_train.shape)\n",
        "print(y_val.shape)"
      ],
      "execution_count": 15,
      "outputs": [
        {
          "output_type": "stream",
          "text": [
            "(54000, 28, 28)\n",
            "(6000, 28, 28)\n",
            "(54000, 10)\n",
            "(6000, 10)\n"
          ],
          "name": "stdout"
        }
      ]
    },
    {
      "cell_type": "code",
      "metadata": {
        "colab_type": "code",
        "id": "dGsCN8mMHF0X",
        "colab": {
          "base_uri": "https://localhost:8080/",
          "height": 357
        },
        "outputId": "18be4515-b2bc-41d5-905e-b5761f5334a2"
      },
      "source": [
        "\n",
        "from keras.models import Sequential\n",
        "from keras.layers import Dense,Flatten\n",
        "\n",
        "model = Sequential()\n",
        "# first layer we need to mention the input shape\n",
        "\n",
        "model.add(Flatten(input_shape=(28,28)))\n",
        "## 784 pixel values as input to this Dense. 128 Neurons in the layers\n",
        "model.add(Dense(128,activation='relu'))# 784 * 128+128\n",
        "model.add(Dense(128,activation='relu'))# \n",
        "model.add(Dense(64,activation='relu'))\n",
        "model.add(Dense(256,activation='relu'))\n",
        "#Final layer\n",
        "model.add(Dense(10,activation='softmax'))\n",
        "model.summary()"
      ],
      "execution_count": 16,
      "outputs": [
        {
          "output_type": "stream",
          "text": [
            "Model: \"sequential_1\"\n",
            "_________________________________________________________________\n",
            "Layer (type)                 Output Shape              Param #   \n",
            "=================================================================\n",
            "flatten_1 (Flatten)          (None, 784)               0         \n",
            "_________________________________________________________________\n",
            "dense_1 (Dense)              (None, 128)               100480    \n",
            "_________________________________________________________________\n",
            "dense_2 (Dense)              (None, 128)               16512     \n",
            "_________________________________________________________________\n",
            "dense_3 (Dense)              (None, 64)                8256      \n",
            "_________________________________________________________________\n",
            "dense_4 (Dense)              (None, 256)               16640     \n",
            "_________________________________________________________________\n",
            "dense_5 (Dense)              (None, 10)                2570      \n",
            "=================================================================\n",
            "Total params: 144,458\n",
            "Trainable params: 144,458\n",
            "Non-trainable params: 0\n",
            "_________________________________________________________________\n"
          ],
          "name": "stdout"
        }
      ]
    },
    {
      "cell_type": "code",
      "metadata": {
        "colab_type": "code",
        "id": "dPVqE0NaHJKn",
        "colab": {}
      },
      "source": [
        "model.compile(optimizer='adam',loss=tf.keras.losses.CategoricalCrossentropy(),metrics=['accuracy'])"
      ],
      "execution_count": 17,
      "outputs": []
    },
    {
      "cell_type": "code",
      "metadata": {
        "colab_type": "code",
        "id": "AChWvUSDHNWG",
        "colab": {
          "base_uri": "https://localhost:8080/",
          "height": 204
        },
        "outputId": "4b3bd81a-22e0-4fed-a3be-6be7a039d32c"
      },
      "source": [
        "history=model.fit(x=x_train,y=y_train,epochs=5,validation_data=(x_val,y_val),batch_size=32)"
      ],
      "execution_count": 18,
      "outputs": [
        {
          "output_type": "stream",
          "text": [
            "Train on 54000 samples, validate on 6000 samples\n",
            "Epoch 1/5\n",
            "54000/54000 [==============================] - 6s 108us/step - loss: 0.2487 - accuracy: 0.9247 - val_loss: 0.1506 - val_accuracy: 0.9533\n",
            "Epoch 2/5\n",
            "54000/54000 [==============================] - 5s 101us/step - loss: 0.1133 - accuracy: 0.9663 - val_loss: 0.1052 - val_accuracy: 0.9715\n",
            "Epoch 3/5\n",
            "54000/54000 [==============================] - 5s 100us/step - loss: 0.0810 - accuracy: 0.9754 - val_loss: 0.1181 - val_accuracy: 0.9650\n",
            "Epoch 4/5\n",
            "54000/54000 [==============================] - 6s 102us/step - loss: 0.0650 - accuracy: 0.9796 - val_loss: 0.1146 - val_accuracy: 0.9673\n",
            "Epoch 5/5\n",
            "54000/54000 [==============================] - 5s 100us/step - loss: 0.0537 - accuracy: 0.9836 - val_loss: 0.0923 - val_accuracy: 0.9750\n"
          ],
          "name": "stdout"
        }
      ]
    },
    {
      "cell_type": "code",
      "metadata": {
        "colab_type": "code",
        "id": "3Ig8LedmHQQ1",
        "colab": {
          "base_uri": "https://localhost:8080/",
          "height": 51
        },
        "outputId": "9880c01a-c794-4349-cf3d-37a030594745"
      },
      "source": [
        "model.evaluate(test_digits_sc,test_labels_cat)"
      ],
      "execution_count": 19,
      "outputs": [
        {
          "output_type": "stream",
          "text": [
            "10000/10000 [==============================] - 0s 28us/step\n"
          ],
          "name": "stdout"
        },
        {
          "output_type": "execute_result",
          "data": {
            "text/plain": [
              "[0.08778220076828439, 0.9747999906539917]"
            ]
          },
          "metadata": {
            "tags": []
          },
          "execution_count": 19
        }
      ]
    },
    {
      "cell_type": "code",
      "metadata": {
        "colab_type": "code",
        "id": "upzAJ9yKHcwA",
        "colab": {
          "base_uri": "https://localhost:8080/",
          "height": 68
        },
        "outputId": "e0870ad5-1637-4fcc-e86d-4458589a17ea"
      },
      "source": [
        "print(test_digits_sc.shape)\n",
        "print(test_digits_sc[0].shape)\n",
        "print(np.expand_dims(test_digits_sc[0],axis=0).shape)"
      ],
      "execution_count": 20,
      "outputs": [
        {
          "output_type": "stream",
          "text": [
            "(10000, 28, 28)\n",
            "(28, 28)\n",
            "(1, 28, 28)\n"
          ],
          "name": "stdout"
        }
      ]
    },
    {
      "cell_type": "code",
      "metadata": {
        "colab_type": "code",
        "id": "rwV9he6yIpH5",
        "colab": {
          "base_uri": "https://localhost:8080/",
          "height": 68
        },
        "outputId": "4b1995c8-b6d6-40db-f7e4-f551c534e2c7"
      },
      "source": [
        "model.predict(np.expand_dims(test_digits_sc[0],axis=0))"
      ],
      "execution_count": 21,
      "outputs": [
        {
          "output_type": "execute_result",
          "data": {
            "text/plain": [
              "array([[1.5832203e-09, 1.6325016e-06, 2.1278183e-07, 2.0785840e-06,\n",
              "        2.4140195e-07, 1.9290848e-08, 7.4207506e-12, 9.9960381e-01,\n",
              "        3.5174926e-07, 3.9163380e-04]], dtype=float32)"
            ]
          },
          "metadata": {
            "tags": []
          },
          "execution_count": 21
        }
      ]
    },
    {
      "cell_type": "code",
      "metadata": {
        "colab_type": "code",
        "id": "nMUpTjYkIsef",
        "colab": {
          "base_uri": "https://localhost:8080/",
          "height": 527
        },
        "outputId": "3c67ec65-cd74-4449-aa90-dd77587d4435"
      },
      "source": [
        "model.predict(test_digits_sc[:10])"
      ],
      "execution_count": 22,
      "outputs": [
        {
          "output_type": "execute_result",
          "data": {
            "text/plain": [
              "array([[1.5832264e-09, 1.6325079e-06, 2.1278264e-07, 2.0785940e-06,\n",
              "        2.4140286e-07, 1.9290921e-08, 7.4207645e-12, 9.9960381e-01,\n",
              "        3.5175060e-07, 3.9163511e-04],\n",
              "       [7.8671852e-10, 9.8837722e-07, 9.9999559e-01, 2.0116202e-06,\n",
              "        1.7219144e-09, 3.0102718e-09, 2.1280361e-10, 1.4594597e-06,\n",
              "        2.9595082e-08, 2.6706460e-11],\n",
              "       [3.8291064e-09, 9.9995410e-01, 8.4892355e-07, 7.0110264e-09,\n",
              "        1.3087472e-06, 5.1362221e-08, 4.9165624e-07, 1.5383392e-05,\n",
              "        2.7738712e-05, 1.4847929e-07],\n",
              "       [9.9974257e-01, 1.2380682e-08, 6.4459118e-06, 3.7665765e-07,\n",
              "        4.0795539e-06, 1.2392153e-06, 1.8166953e-04, 2.5915881e-07,\n",
              "        2.1272617e-05, 4.2129905e-05],\n",
              "       [1.5883833e-07, 3.9720664e-05, 5.0875433e-06, 3.2354460e-08,\n",
              "        9.9949789e-01, 1.2762489e-06, 1.4334188e-05, 7.6191594e-05,\n",
              "        7.7957077e-07, 3.6449888e-04],\n",
              "       [8.4666328e-12, 9.9999809e-01, 2.0506914e-09, 6.7019901e-12,\n",
              "        8.5092445e-08, 7.8410153e-11, 1.6906569e-09, 1.5738509e-06,\n",
              "        1.8612823e-07, 5.9118324e-09],\n",
              "       [8.8014595e-08, 2.0170014e-06, 1.3239384e-05, 7.1550176e-08,\n",
              "        9.9984610e-01, 4.0220657e-06, 9.0940821e-06, 8.9168516e-06,\n",
              "        1.2423310e-05, 1.0403845e-04],\n",
              "       [4.2134751e-08, 1.6552754e-08, 9.4401846e-09, 3.1019442e-07,\n",
              "        6.8761487e-06, 1.1040490e-07, 3.3200005e-11, 3.1056547e-06,\n",
              "        6.6318285e-07, 9.9998879e-01],\n",
              "       [4.8175812e-06, 4.8352489e-05, 2.1168349e-05, 2.9137864e-05,\n",
              "        1.6155030e-04, 6.5358812e-01, 3.0620280e-01, 3.3450559e-07,\n",
              "        1.6096719e-02, 2.3846984e-02],\n",
              "       [2.7718841e-10, 3.2635869e-10, 7.0189222e-11, 3.2460508e-09,\n",
              "        3.8782251e-05, 3.7338874e-09, 3.3825701e-13, 2.0322345e-08,\n",
              "        8.9181142e-08, 9.9996102e-01]], dtype=float32)"
            ]
          },
          "metadata": {
            "tags": []
          },
          "execution_count": 22
        }
      ]
    },
    {
      "cell_type": "code",
      "metadata": {
        "colab_type": "code",
        "id": "UpLMy3loIwKZ",
        "colab": {
          "base_uri": "https://localhost:8080/",
          "height": 34
        },
        "outputId": "5bb3822d-0455-4d64-a54a-9df11e261d16"
      },
      "source": [
        "model.predict_classes(np.expand_dims(test_digits_sc[0],axis=0))"
      ],
      "execution_count": 23,
      "outputs": [
        {
          "output_type": "execute_result",
          "data": {
            "text/plain": [
              "array([7])"
            ]
          },
          "metadata": {
            "tags": []
          },
          "execution_count": 23
        }
      ]
    },
    {
      "cell_type": "code",
      "metadata": {
        "colab_type": "code",
        "id": "ix2U29g_Izhp",
        "colab": {
          "base_uri": "https://localhost:8080/",
          "height": 68
        },
        "outputId": "ffb68dc7-7214-4253-d2c5-d2b41dacd4a3"
      },
      "source": [
        "model.predict_proba(np.expand_dims(test_digits_sc[0],axis=0))"
      ],
      "execution_count": 24,
      "outputs": [
        {
          "output_type": "execute_result",
          "data": {
            "text/plain": [
              "array([[1.5832203e-09, 1.6325016e-06, 2.1278183e-07, 2.0785840e-06,\n",
              "        2.4140195e-07, 1.9290848e-08, 7.4207506e-12, 9.9960381e-01,\n",
              "        3.5174926e-07, 3.9163380e-04]], dtype=float32)"
            ]
          },
          "metadata": {
            "tags": []
          },
          "execution_count": 24
        }
      ]
    },
    {
      "cell_type": "code",
      "metadata": {
        "colab_type": "code",
        "id": "GSuf7gdNI3I1",
        "colab": {
          "base_uri": "https://localhost:8080/",
          "height": 289
        },
        "outputId": "3f94fd79-b877-495c-be25-6ed335fac451"
      },
      "source": [
        "history.history"
      ],
      "execution_count": 25,
      "outputs": [
        {
          "output_type": "execute_result",
          "data": {
            "text/plain": [
              "{'accuracy': [0.9246852, 0.9663148, 0.9754074, 0.97962964, 0.9835741],\n",
              " 'loss': [0.24870820126875684,\n",
              "  0.11325055391189677,\n",
              "  0.08100497318652493,\n",
              "  0.06503125197890525,\n",
              "  0.05365401581997759],\n",
              " 'val_accuracy': [0.95333331823349,\n",
              "  0.9714999794960022,\n",
              "  0.9649999737739563,\n",
              "  0.9673333168029785,\n",
              "  0.9750000238418579],\n",
              " 'val_loss': [0.15057422425349554,\n",
              "  0.10520539754877488,\n",
              "  0.11807408006985982,\n",
              "  0.11462893854888777,\n",
              "  0.09226688439763772]}"
            ]
          },
          "metadata": {
            "tags": []
          },
          "execution_count": 25
        }
      ]
    },
    {
      "cell_type": "code",
      "metadata": {
        "colab_type": "code",
        "id": "8R0r9xzTI552",
        "colab": {
          "base_uri": "https://localhost:8080/",
          "height": 282
        },
        "outputId": "e5f4a38b-582f-400a-b15d-9fa201d8f04b"
      },
      "source": [
        "plt.plot(history.history['accuracy'])\n",
        "plt.plot(history.history['val_accuracy'])"
      ],
      "execution_count": 26,
      "outputs": [
        {
          "output_type": "execute_result",
          "data": {
            "text/plain": [
              "[<matplotlib.lines.Line2D at 0x7ff139c42c88>]"
            ]
          },
          "metadata": {
            "tags": []
          },
          "execution_count": 26
        },
        {
          "output_type": "display_data",
          "data": {
            "image/png": "[encoded data removed]",
            "text/plain": [
              "<Figure size 432x288 with 1 Axes>"
            ]
          },
          "metadata": {
            "tags": [],
            "needs_background": "light"
          }
        }
      ]
    },
    {
      "cell_type": "code",
      "metadata": {
        "colab_type": "code",
        "id": "YIvjDI9qI8fU",
        "colab": {
          "base_uri": "https://localhost:8080/",
          "height": 357
        },
        "outputId": "186175fd-a93d-4965-8414-de06d539652c"
      },
      "source": [
        "model2 = Sequential()\n",
        "# first layer we need to mention the input shape\n",
        "\n",
        "model2.add(Flatten(input_shape=(28,28)))\n",
        "## 784 pixel values as input to this Dense. 128 Neurons in the layers\n",
        "model2.add(Dense(128,activation='relu'))# 784 * 128+128\n",
        "model2.add(Dense(256,activation='relu'))# \n",
        "model2.add(Dense(64,activation='relu'))\n",
        "model2.add(Dense(256,activation='relu'))\n",
        "#Final layer\n",
        "model2.add(Dense(10,activation='sigmoid'))\n",
        "model2.summary()"
      ],
      "execution_count": 27,
      "outputs": [
        {
          "output_type": "stream",
          "text": [
            "Model: \"sequential_2\"\n",
            "_________________________________________________________________\n",
            "Layer (type)                 Output Shape              Param #   \n",
            "=================================================================\n",
            "flatten_2 (Flatten)          (None, 784)               0         \n",
            "_________________________________________________________________\n",
            "dense_6 (Dense)              (None, 128)               100480    \n",
            "_________________________________________________________________\n",
            "dense_7 (Dense)              (None, 256)               33024     \n",
            "_________________________________________________________________\n",
            "dense_8 (Dense)              (None, 64)                16448     \n",
            "_________________________________________________________________\n",
            "dense_9 (Dense)              (None, 256)               16640     \n",
            "_________________________________________________________________\n",
            "dense_10 (Dense)             (None, 10)                2570      \n",
            "=================================================================\n",
            "Total params: 169,162\n",
            "Trainable params: 169,162\n",
            "Non-trainable params: 0\n",
            "_________________________________________________________________\n"
          ],
          "name": "stdout"
        }
      ]
    },
    {
      "cell_type": "code",
      "metadata": {
        "colab_type": "code",
        "id": "ow0mkZ0pJAGo",
        "colab": {}
      },
      "source": [
        "model2.compile(optimizer='adam',loss=tf.keras.losses.CategoricalCrossentropy(),metrics=['accuracy'])"
      ],
      "execution_count": 28,
      "outputs": []
    },
    {
      "cell_type": "code",
      "metadata": {
        "colab_type": "code",
        "id": "RAh-jRcCJDox",
        "colab": {
          "base_uri": "https://localhost:8080/",
          "height": 204
        },
        "outputId": "6729b7e6-3cc6-4a0a-9016-532617b04870"
      },
      "source": [
        "history=model2.fit(x=x_train,y=y_train,epochs=5,validation_data=(x_val,y_val),batch_size=32)"
      ],
      "execution_count": 29,
      "outputs": [
        {
          "output_type": "stream",
          "text": [
            "Train on 54000 samples, validate on 6000 samples\n",
            "Epoch 1/5\n",
            "54000/54000 [==============================] - 6s 120us/step - loss: 0.2613 - accuracy: 0.9214 - val_loss: 0.1568 - val_accuracy: 0.9573\n",
            "Epoch 2/5\n",
            "54000/54000 [==============================] - 6s 117us/step - loss: 0.1119 - accuracy: 0.9656 - val_loss: 0.1083 - val_accuracy: 0.9678\n",
            "Epoch 3/5\n",
            "54000/54000 [==============================] - 6s 113us/step - loss: 0.0795 - accuracy: 0.9759 - val_loss: 0.1274 - val_accuracy: 0.9627\n",
            "Epoch 4/5\n",
            "54000/54000 [==============================] - 6s 115us/step - loss: 0.0635 - accuracy: 0.9803 - val_loss: 0.1034 - val_accuracy: 0.9715\n",
            "Epoch 5/5\n",
            "54000/54000 [==============================] - 6s 116us/step - loss: 0.0509 - accuracy: 0.9843 - val_loss: 0.1099 - val_accuracy: 0.9713\n"
          ],
          "name": "stdout"
        }
      ]
    },
    {
      "cell_type": "code",
      "metadata": {
        "colab_type": "code",
        "id": "p8QLfl_EJPJk",
        "colab": {
          "base_uri": "https://localhost:8080/",
          "height": 51
        },
        "outputId": "144f79d9-c6d4-488d-b989-45e5a4e4b403"
      },
      "source": [
        "model2.evaluate(test_digits_sc,test_labels_cat)"
      ],
      "execution_count": 30,
      "outputs": [
        {
          "output_type": "stream",
          "text": [
            "10000/10000 [==============================] - 0s 27us/step\n"
          ],
          "name": "stdout"
        },
        {
          "output_type": "execute_result",
          "data": {
            "text/plain": [
              "[0.11845310760778376, 0.9682999849319458]"
            ]
          },
          "metadata": {
            "tags": []
          },
          "execution_count": 30
        }
      ]
    },
    {
      "cell_type": "code",
      "metadata": {
        "colab_type": "code",
        "id": "hQtmTJURJZh8",
        "colab": {
          "base_uri": "https://localhost:8080/",
          "height": 68
        },
        "outputId": "442c9d03-d2c9-4d73-9e53-b72632322771"
      },
      "source": [
        "print(test_digits_sc.shape)\n",
        "print(test_digits_sc[0].shape)\n",
        "print(np.expand_dims(test_digits_sc[0],axis=0).shape)"
      ],
      "execution_count": 31,
      "outputs": [
        {
          "output_type": "stream",
          "text": [
            "(10000, 28, 28)\n",
            "(28, 28)\n",
            "(1, 28, 28)\n"
          ],
          "name": "stdout"
        }
      ]
    },
    {
      "cell_type": "code",
      "metadata": {
        "colab_type": "code",
        "id": "IvLGkyHMJdNC",
        "colab": {
          "base_uri": "https://localhost:8080/",
          "height": 68
        },
        "outputId": "86de4775-fff6-4bbc-bfbc-1427907c227b"
      },
      "source": [
        "model.predict(np.expand_dims(test_digits_sc[0],axis=0))"
      ],
      "execution_count": 32,
      "outputs": [
        {
          "output_type": "execute_result",
          "data": {
            "text/plain": [
              "array([[1.5832203e-09, 1.6325016e-06, 2.1278183e-07, 2.0785840e-06,\n",
              "        2.4140195e-07, 1.9290848e-08, 7.4207506e-12, 9.9960381e-01,\n",
              "        3.5174926e-07, 3.9163380e-04]], dtype=float32)"
            ]
          },
          "metadata": {
            "tags": []
          },
          "execution_count": 32
        }
      ]
    },
    {
      "cell_type": "code",
      "metadata": {
        "colab_type": "code",
        "id": "TNNYypI4Jghk",
        "colab": {
          "base_uri": "https://localhost:8080/",
          "height": 527
        },
        "outputId": "fc5a31a8-5c69-481f-ab67-4f5ba2037ea2"
      },
      "source": [
        "model.predict(test_digits_sc[:10])"
      ],
      "execution_count": 33,
      "outputs": [
        {
          "output_type": "execute_result",
          "data": {
            "text/plain": [
              "array([[1.5832264e-09, 1.6325079e-06, 2.1278264e-07, 2.0785940e-06,\n",
              "        2.4140286e-07, 1.9290921e-08, 7.4207645e-12, 9.9960381e-01,\n",
              "        3.5175060e-07, 3.9163511e-04],\n",
              "       [7.8671852e-10, 9.8837722e-07, 9.9999559e-01, 2.0116202e-06,\n",
              "        1.7219144e-09, 3.0102718e-09, 2.1280361e-10, 1.4594597e-06,\n",
              "        2.9595082e-08, 2.6706460e-11],\n",
              "       [3.8291064e-09, 9.9995410e-01, 8.4892355e-07, 7.0110264e-09,\n",
              "        1.3087472e-06, 5.1362221e-08, 4.9165624e-07, 1.5383392e-05,\n",
              "        2.7738712e-05, 1.4847929e-07],\n",
              "       [9.9974257e-01, 1.2380682e-08, 6.4459118e-06, 3.7665765e-07,\n",
              "        4.0795539e-06, 1.2392153e-06, 1.8166953e-04, 2.5915881e-07,\n",
              "        2.1272617e-05, 4.2129905e-05],\n",
              "       [1.5883833e-07, 3.9720664e-05, 5.0875433e-06, 3.2354460e-08,\n",
              "        9.9949789e-01, 1.2762489e-06, 1.4334188e-05, 7.6191594e-05,\n",
              "        7.7957077e-07, 3.6449888e-04],\n",
              "       [8.4666328e-12, 9.9999809e-01, 2.0506914e-09, 6.7019901e-12,\n",
              "        8.5092445e-08, 7.8410153e-11, 1.6906569e-09, 1.5738509e-06,\n",
              "        1.8612823e-07, 5.9118324e-09],\n",
              "       [8.8014595e-08, 2.0170014e-06, 1.3239384e-05, 7.1550176e-08,\n",
              "        9.9984610e-01, 4.0220657e-06, 9.0940821e-06, 8.9168516e-06,\n",
              "        1.2423310e-05, 1.0403845e-04],\n",
              "       [4.2134751e-08, 1.6552754e-08, 9.4401846e-09, 3.1019442e-07,\n",
              "        6.8761487e-06, 1.1040490e-07, 3.3200005e-11, 3.1056547e-06,\n",
              "        6.6318285e-07, 9.9998879e-01],\n",
              "       [4.8175812e-06, 4.8352489e-05, 2.1168349e-05, 2.9137864e-05,\n",
              "        1.6155030e-04, 6.5358812e-01, 3.0620280e-01, 3.3450559e-07,\n",
              "        1.6096719e-02, 2.3846984e-02],\n",
              "       [2.7718841e-10, 3.2635869e-10, 7.0189222e-11, 3.2460508e-09,\n",
              "        3.8782251e-05, 3.7338874e-09, 3.3825701e-13, 2.0322345e-08,\n",
              "        8.9181142e-08, 9.9996102e-01]], dtype=float32)"
            ]
          },
          "metadata": {
            "tags": []
          },
          "execution_count": 33
        }
      ]
    },
    {
      "cell_type": "code",
      "metadata": {
        "colab_type": "code",
        "id": "8sCpCpVbJji0",
        "colab": {
          "base_uri": "https://localhost:8080/",
          "height": 34
        },
        "outputId": "95d13478-9c3c-4b7c-f236-b0adff08824f"
      },
      "source": [
        "model.predict_classes(np.expand_dims(test_digits_sc[0],axis=0))"
      ],
      "execution_count": 34,
      "outputs": [
        {
          "output_type": "execute_result",
          "data": {
            "text/plain": [
              "array([7])"
            ]
          },
          "metadata": {
            "tags": []
          },
          "execution_count": 34
        }
      ]
    },
    {
      "cell_type": "code",
      "metadata": {
        "colab_type": "code",
        "id": "tHiNVqYYJmPU",
        "colab": {
          "base_uri": "https://localhost:8080/",
          "height": 68
        },
        "outputId": "522bb4f2-624f-4534-bdb3-81e88bb03890"
      },
      "source": [
        "model.predict_proba(np.expand_dims(test_digits_sc[0],axis=0))"
      ],
      "execution_count": 35,
      "outputs": [
        {
          "output_type": "execute_result",
          "data": {
            "text/plain": [
              "array([[1.5832203e-09, 1.6325016e-06, 2.1278183e-07, 2.0785840e-06,\n",
              "        2.4140195e-07, 1.9290848e-08, 7.4207506e-12, 9.9960381e-01,\n",
              "        3.5174926e-07, 3.9163380e-04]], dtype=float32)"
            ]
          },
          "metadata": {
            "tags": []
          },
          "execution_count": 35
        }
      ]
    },
    {
      "cell_type": "code",
      "metadata": {
        "colab_type": "code",
        "id": "g8NlieSlJpjI",
        "colab": {
          "base_uri": "https://localhost:8080/",
          "height": 289
        },
        "outputId": "47f6c9e8-0c67-4ec8-e317-3243ba8f19e1"
      },
      "source": [
        "history.history"
      ],
      "execution_count": 36,
      "outputs": [
        {
          "output_type": "execute_result",
          "data": {
            "text/plain": [
              "{'accuracy': [0.92142594, 0.96562964, 0.9758889, 0.9802778, 0.98425925],\n",
              " 'loss': [0.2612568941822758,\n",
              "  0.11185104519032218,\n",
              "  0.07952088880166411,\n",
              "  0.06345584325961492,\n",
              "  0.050853002515474886],\n",
              " 'val_accuracy': [0.9573333263397217,\n",
              "  0.9678333401679993,\n",
              "  0.9626666903495789,\n",
              "  0.9714999794960022,\n",
              "  0.9713333249092102],\n",
              " 'val_loss': [0.15678693435589472,\n",
              "  0.10826825280487537,\n",
              "  0.127429604186366,\n",
              "  0.10339255045664807,\n",
              "  0.10991885401681066]}"
            ]
          },
          "metadata": {
            "tags": []
          },
          "execution_count": 36
        }
      ]
    },
    {
      "cell_type": "code",
      "metadata": {
        "colab_type": "code",
        "id": "eDbr-93mJsXi",
        "colab": {
          "base_uri": "https://localhost:8080/",
          "height": 282
        },
        "outputId": "efa2781c-46a4-401c-8246-5c37d74c6bac"
      },
      "source": [
        "plt.plot(history.history['accuracy'])\n",
        "plt.plot(history.history['val_accuracy'])"
      ],
      "execution_count": 37,
      "outputs": [
        {
          "output_type": "execute_result",
          "data": {
            "text/plain": [
              "[<matplotlib.lines.Line2D at 0x7ff138d8a550>]"
            ]
          },
          "metadata": {
            "tags": []
          },
          "execution_count": 37
        },
        {
          "output_type": "display_data",
          "data": {
            "image/png": "[encoded data removed]",
            "text/plain": [
              "<Figure size 432x288 with 1 Axes>"
            ]
          },
          "metadata": {
            "tags": [],
            "needs_background": "light"
          }
        }
      ]
    }
  ]
}